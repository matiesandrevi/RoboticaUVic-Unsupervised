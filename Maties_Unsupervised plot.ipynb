{
 "metadata": {
  "name": "",
  "signature": "sha256:456b35f616d41f437b18fd6df0d523274ee61a1bd1177d479e147c693b2d2108"
 },
 "nbformat": 3,
 "nbformat_minor": 0,
 "worksheets": [
  {
   "cells": [
    {
     "cell_type": "code",
     "collapsed": false,
     "input": [
      "# Q1. Pattern Recognition Assignments 3: Unsupervised Learning\n",
      "# 2 dimensions\n",
      "import numpy as np\n",
      "from scipy.spatial.distance import cdist\n",
      "from sklearn.metrics import mean_squared_error as mse"
     ],
     "language": "python",
     "metadata": {},
     "outputs": [],
     "prompt_number": 1
    },
    {
     "cell_type": "code",
     "collapsed": false,
     "input": [
      "def KMeans(data, k, dim):\n",
      "    C = np.random.random((k,dim)) * X.max()\n",
      "    old_C = np.zeros((K, dim)) \n",
      "    maxiter = 100\n",
      "    ii=0\n",
      "    \n",
      "    while (C != old_C).all() and ii<maxiter:\n",
      "        old_C = np.copy(C)\n",
      "        clusters = np.zeros((k,X.shape[0]))\n",
      "        d_min = np.zeros((k,X.shape[0]))\n",
      "        clusters = cdist(C,X)\n",
      "        d_min = np.argmin(clusters,0)\n",
      "        C = np.array([np.mean(X[d_min == j, :],0) for j in range(k)])\n",
      "        ii += 1\n",
      "       \n",
      "    # Max number of interactions\n",
      "\n",
      "    if (C != old_C).all() and ii>=maxiter:\n",
      "        C = data[:k,:dim]\n",
      "       \n",
      "    return C, d_min\n",
      "\n",
      "\n"
     ],
     "language": "python",
     "metadata": {},
     "outputs": [],
     "prompt_number": 11
    },
    {
     "cell_type": "code",
     "collapsed": false,
     "input": [
      "\n",
      "K = 3\n",
      "data = np.loadtxt(\"iris.data\",delimiter = ',',usecols=range(0,4))\n",
      "\n",
      "print \"Using the first 2 dimensions of data\"\n",
      "\n",
      "dim = 2\n",
      "X = data[:,:dim]\n",
      "C,d_min = KMeans(X, K, dim)\n",
      "print \"Better centroids \"\n",
      "print \"****************\"\n",
      "print C\n",
      "\n",
      "y_pred = np.array([C[d_min[i],:] for i in range(data.shape[0])]) \n",
      "\n",
      "print \"****************\"\n",
      "print \"Global MSE =\", mse(X,y_pred)\n",
      "\n",
      "for j in range(K):\n",
      "    \n",
      "    if X[d_min==j,:].any():\n",
      "        print \"MSE Cluster\", j, \"=\", mse(X[d_min==j,:],y_pred[d_min == j,:])\n"
     ],
     "language": "python",
     "metadata": {},
     "outputs": [
      {
       "output_type": "stream",
       "stream": "stdout",
       "text": [
        "Using the first 2 dimensions of data\n",
        "Better centroids \n",
        "****************\n",
        "[[5.1 3.5]\n",
        " [4.9 3. ]\n",
        " [4.7 3.2]]\n",
        "****************\n",
        "Global MSE = 0.8803333333333334\n",
        "MSE Cluster 1 = 0.8803333333333334\n"
       ]
      },
      {
       "output_type": "stream",
       "stream": "stderr",
       "text": [
        "/home/maties/.local/lib/python2.7/site-packages/numpy/core/fromnumeric.py:2920: RuntimeWarning: Mean of empty slice.\n",
        "  out=out, **kwargs)\n",
        "/home/maties/.local/lib/python2.7/site-packages/numpy/core/_methods.py:78: RuntimeWarning: invalid value encountered in true_divide\n",
        "  ret, rcount, out=ret, casting='unsafe', subok=False)\n"
       ]
      }
     ],
     "prompt_number": 6
    },
    {
     "cell_type": "code",
     "collapsed": false,
     "input": [
      "import matplotlib.pyplot as plt\n",
      "from mpl_toolkits.mplot3d import Axes3D"
     ],
     "language": "python",
     "metadata": {},
     "outputs": [],
     "prompt_number": 7
    },
    {
     "cell_type": "code",
     "collapsed": false,
     "input": [
      "print \"Using the 4 dimensions of data\"\n",
      "dim = 4\n",
      "X = data[:,:dim]\n",
      "C, d_min = KMeans(X, K, dim)\n",
      "print \"Better centroids \"\n",
      "print C\n",
      "\n",
      "y_pred = np.array([C[d_min[i],:] for i in range(data.shape[0])]) \n",
      "\n",
      "print \"Global MSE is:\", mse(X,y_pred)\n",
      "\n",
      "for j in range(K):\n",
      "    \n",
      "    if X[d_min==j,:].any():\n",
      "        \n",
      "        print \"MSE Cluster\", j, \"is:\", mse(X[d_min==j,:],y_pred[d_min == j,:])\n"
     ],
     "language": "python",
     "metadata": {},
     "outputs": [
      {
       "output_type": "stream",
       "stream": "stdout",
       "text": [
        "Using the 4 dimensions of data\n",
        "Better centroids \n",
        "[[5.1 3.5 1.4 0.2]\n",
        " [4.9 3.  1.4 0.2]\n",
        " [4.7 3.2 1.3 0.2]]\n",
        "Global MSE is: 2.998066666666668\n",
        "MSE Cluster 1 is: 2.998066666666668\n"
       ]
      }
     ],
     "prompt_number": 8
    },
    {
     "cell_type": "code",
     "collapsed": false,
     "input": [],
     "language": "python",
     "metadata": {},
     "outputs": []
    }
   ],
   "metadata": {}
  }
 ]
}