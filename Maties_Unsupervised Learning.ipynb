{
 "metadata": {
  "name": "",
  "signature": "sha256:f4d8bd81678cfebb053c8ca90fc3056d5a924e648ec6f11a3d2b534466422540"
 },
 "nbformat": 3,
 "nbformat_minor": 0,
 "worksheets": [
  {
   "cells": [
    {
     "cell_type": "code",
     "collapsed": false,
     "input": [
      "print \"Pattern Recognition Assignments 3: Unsupervised Learning\"\n",
      "print \"Q1 Implement the K-Means algorithm\"\n",
      "import numpy as np\n",
      "from scipy.spatial.distance import cdist\n",
      "from sklearn.metrics import mean_squared_error as mse\n",
      "from mpl_toolkits.mplot3d import Axes3D\n",
      "import matplotlib.pyplot as plt"
     ],
     "language": "python",
     "metadata": {},
     "outputs": [
      {
       "output_type": "stream",
       "stream": "stdout",
       "text": [
        "Pattern Recognition Assignments 3: Unsupervised Learning\n",
        "Q1 Implement the K-Means algorithm\n"
       ]
      }
     ],
     "prompt_number": 1
    },
    {
     "cell_type": "code",
     "collapsed": false,
     "input": [
      "def KMeans(data, k, dim):\n",
      "    index_array = np.arange((len(data)))\n",
      "    random_index = np.random.choice(index_array, k)\n",
      "    C = data[random_index]\n",
      "    old_C = np.zeros((K, dim)) \n",
      "    maxiter = 100\n",
      "    ii=0\n",
      "    while (C != old_C).any() and ii<maxiter:\n",
      "        old_C = np.copy(C)\n",
      "        clusters = np.zeros((k, X.shape[0]))\n",
      "        d_min = np.zeros((k, X.shape[0]))\n",
      "        clusters = cdist(C, X)\n",
      "        d_min = np.argmin(clusters, 0)\n",
      "        C = np.array([np.mean(X[d_min == j, :], axis=0) for j in range(k)])\n",
      "        ii += 1\n",
      "        \n",
      "    print ii\n",
      "    # Max number of interactions\n",
      "    if (C != old_C).all() and ii>=maxiter:\n",
      "        C = data[:k,:dim]\n",
      "\n",
      "    return C, d_min\n"
     ],
     "language": "python",
     "metadata": {},
     "outputs": [],
     "prompt_number": 5
    },
    {
     "cell_type": "code",
     "collapsed": false,
     "input": [
      "print \"Q2 Try the implemented K-Means algorithm with K=3 in the first two dimensions of the iris dataset, so you can visualize it\"\n",
      "print \"\"\n",
      "K = 3\n",
      "data = np.loadtxt(\"iris.data\", delimiter=',', usecols=range(0,4))\n",
      "\n",
      "\n",
      "dim = 2\n",
      "X = data[:,:dim]\n",
      "C, d_min = KMeans(X, K, dim)\n",
      "\n",
      "\n",
      "\n",
      "col = [\"red\", \"green\", \"blue\"]\n",
      "colors = [col[i] for i in d_min]\n",
      "plt.scatter(data[:, 0], data[: ,1], c=colors) #, s=area, c=colors, alpha=0.5)\n",
      "plt.scatter(C[:, 0], C[:, 1], c='black', s=100)\n",
      "plt.show()\n",
      "\n",
      "print \"Best centroids \"\n",
      "print \"****************\"\n",
      "print C\n",
      "\n",
      "y_pred = np.array([C[d_min[i], :] for i in range(data.shape[0])]) \n",
      "print \"****************\"\n",
      "print \"Global MSE =\", mse(X, y_pred)\n",
      "\n",
      "for j in range(K):\n",
      "    if X[d_min==j,:].any():\n",
      "        print \"MSE Cluster\", j, \"=\", mse(X[d_min==j,:],y_pred[d_min == j,:])\n",
      "        "
     ],
     "language": "python",
     "metadata": {},
     "outputs": [
      {
       "output_type": "stream",
       "stream": "stdout",
       "text": [
        "Q2 Try the implemented K-Means algorithm with K=3 in the first two dimensions of the iris dataset, so you can visualize it\n",
        "\n",
        "8\n",
        "Best centroids "
       ]
      },
      {
       "output_type": "stream",
       "stream": "stdout",
       "text": [
        "\n",
        "****************\n",
        "[[6.81276596 3.07446809]\n",
        " [5.006      3.418     ]\n",
        " [5.77358491 2.69245283]]\n",
        "****************\n",
        "Global MSE = 0.12374567375886524\n",
        "MSE Cluster 0 = 0.1342734268899955\n",
        "MSE Cluster 1 = 0.13201999999999997\n",
        "MSE Cluster 2 = 0.10660377358490565\n"
       ]
      }
     ],
     "prompt_number": 7
    },
    {
     "cell_type": "code",
     "collapsed": false,
     "input": [
      "print \"Then try it with the full four-dimensional vectors and report the MSE for each cluster and globally\"\n",
      "print \"\"\n",
      "dim = 4\n",
      "X = data[:,:dim]\n",
      "C, d_min = KMeans(X, K, dim)\n",
      "\n",
      "col = [\"red\", \"green\", \"blue\"]\n",
      "colors = [col[i] for i in d_min]\n",
      "fig = plt.figure()\n",
      "ax = fig.add_subplot(111, projection='3d')\n",
      "ax.scatter(data[:, 0], data[:, 1], data[: ,2], c=colors) #, s=area, c=colors, alpha=0.5)\n",
      "ax.scatter(C[:, 0], C[:, 1], C[:, 2], c='black', s=100)\n",
      "plt.show()\n",
      "\n",
      "print \"Best centroids \"\n",
      "print \"****************\"\n",
      "C\n",
      "\n",
      "y_pred = np.array([C[d_min[i], :] for i in range(data.shape[0])]) \n",
      "\n",
      "print \"Global MSE =\", mse(X, y_pred)\n",
      "\n",
      "for j in range(K):\n",
      "    if X[d_min==j,:].any():\n",
      "        print \"MSE Cluster\", j, \"=\", mse(X[d_min==j,:],y_pred[d_min == j,:])\n",
      "        "
     ],
     "language": "python",
     "metadata": {},
     "outputs": [
      {
       "output_type": "stream",
       "stream": "stdout",
       "text": [
        "Then try it with the full four-dimensional vectors and report the MSE for each cluster and globally\n",
        "\n",
        "6\n",
        "Best centroids "
       ]
      },
      {
       "output_type": "stream",
       "stream": "stdout",
       "text": [
        "\n",
        "****************\n",
        "Global MSE = 0.13156806904357668\n",
        "MSE Cluster 0 = 0.15710180055401665\n",
        "MSE Cluster 1 = 0.07620199999999999\n",
        "MSE Cluster 2 = 0.16056841831425592\n"
       ]
      }
     ],
     "prompt_number": 8
    },
    {
     "cell_type": "code",
     "collapsed": false,
     "input": [],
     "language": "python",
     "metadata": {},
     "outputs": []
    }
   ],
   "metadata": {}
  }
 ]
}